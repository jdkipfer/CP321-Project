{
 "cells": [
  {
   "cell_type": "code",
   "execution_count": 178,
   "metadata": {},
   "outputs": [],
   "source": [
    "import pandas as pd\n",
    "import matplotlib.pyplot as plt\n",
    "import numpy as np\n",
    "# from scipy.stats import binned_statistic\n",
    "df_1718 = pd.read_csv('data/2017-2018.csv',sep=',')"
   ]
  },
  {
   "cell_type": "code",
   "execution_count": 179,
   "metadata": {},
   "outputs": [],
   "source": [
    "df_1718 = df_1718.iloc[:1000,:]"
   ]
  },
  {
   "cell_type": "code",
   "execution_count": 182,
   "metadata": {},
   "outputs": [
    {
     "data": {
      "text/html": [
       "<div>\n",
       "<style scoped>\n",
       "    .dataframe tbody tr th:only-of-type {\n",
       "        vertical-align: middle;\n",
       "    }\n",
       "\n",
       "    .dataframe tbody tr th {\n",
       "        vertical-align: top;\n",
       "    }\n",
       "\n",
       "    .dataframe thead th {\n",
       "        text-align: right;\n",
       "    }\n",
       "</style>\n",
       "<table border=\"1\" class=\"dataframe\">\n",
       "  <thead>\n",
       "    <tr style=\"text-align: right;\">\n",
       "      <th></th>\n",
       "      <th>Race</th>\n",
       "      <th>Race Grouping</th>\n",
       "      <th>Gender</th>\n",
       "      <th>Age</th>\n",
       "      <th>Sentence Type</th>\n",
       "      <th>Aggregate Sentence Length</th>\n",
       "      <th>Marital Status</th>\n",
       "      <th>Religion</th>\n",
       "    </tr>\n",
       "  </thead>\n",
       "  <tbody>\n",
       "    <tr>\n",
       "      <th>586</th>\n",
       "      <td>WHITE</td>\n",
       "      <td>Non Indigenous</td>\n",
       "      <td>MALE</td>\n",
       "      <td>49</td>\n",
       "      <td>DETERMINATE</td>\n",
       "      <td>730</td>\n",
       "      <td>SINGLE</td>\n",
       "      <td>CATH NON-SPEC</td>\n",
       "    </tr>\n",
       "    <tr>\n",
       "      <th>289</th>\n",
       "      <td>WHITE</td>\n",
       "      <td>Non Indigenous</td>\n",
       "      <td>MALE</td>\n",
       "      <td>25</td>\n",
       "      <td>DETERMINATE</td>\n",
       "      <td>730</td>\n",
       "      <td>COMMON LAW</td>\n",
       "      <td>CHRI NON SPEC</td>\n",
       "    </tr>\n",
       "    <tr>\n",
       "      <th>915</th>\n",
       "      <td>WHITE</td>\n",
       "      <td>Non Indigenous</td>\n",
       "      <td>MALE</td>\n",
       "      <td>23</td>\n",
       "      <td>DETERMINATE</td>\n",
       "      <td>730</td>\n",
       "      <td>SINGLE</td>\n",
       "      <td>CATH NON-SPEC</td>\n",
       "    </tr>\n",
       "    <tr>\n",
       "      <th>250</th>\n",
       "      <td>ASI-E/SOUTHEAST</td>\n",
       "      <td>Non Indigenous</td>\n",
       "      <td>MALE</td>\n",
       "      <td>25</td>\n",
       "      <td>DETERMINATE</td>\n",
       "      <td>730</td>\n",
       "      <td>SINGLE</td>\n",
       "      <td>NaN</td>\n",
       "    </tr>\n",
       "    <tr>\n",
       "      <th>752</th>\n",
       "      <td>ASIAN-SOUTH</td>\n",
       "      <td>Non Indigenous</td>\n",
       "      <td>MALE</td>\n",
       "      <td>39</td>\n",
       "      <td>DETERMINATE</td>\n",
       "      <td>730</td>\n",
       "      <td>UNKNOWN</td>\n",
       "      <td>HINDU</td>\n",
       "    </tr>\n",
       "    <tr>\n",
       "      <th>...</th>\n",
       "      <td>...</td>\n",
       "      <td>...</td>\n",
       "      <td>...</td>\n",
       "      <td>...</td>\n",
       "      <td>...</td>\n",
       "      <td>...</td>\n",
       "      <td>...</td>\n",
       "      <td>...</td>\n",
       "    </tr>\n",
       "    <tr>\n",
       "      <th>950</th>\n",
       "      <td>WHITE</td>\n",
       "      <td>Non Indigenous</td>\n",
       "      <td>MALE</td>\n",
       "      <td>57</td>\n",
       "      <td>DETERMINATE</td>\n",
       "      <td>11539</td>\n",
       "      <td>SINGLE</td>\n",
       "      <td>CATH NON-SPEC</td>\n",
       "    </tr>\n",
       "    <tr>\n",
       "      <th>487</th>\n",
       "      <td>WHITE</td>\n",
       "      <td>Non Indigenous</td>\n",
       "      <td>MALE</td>\n",
       "      <td>58</td>\n",
       "      <td>DETERMINATE</td>\n",
       "      <td>12428</td>\n",
       "      <td>SINGLE</td>\n",
       "      <td>CATH NON-SPEC</td>\n",
       "    </tr>\n",
       "    <tr>\n",
       "      <th>771</th>\n",
       "      <td>WHITE</td>\n",
       "      <td>Non Indigenous</td>\n",
       "      <td>MALE</td>\n",
       "      <td>48</td>\n",
       "      <td>DETERMINATE</td>\n",
       "      <td>13229</td>\n",
       "      <td>SINGLE</td>\n",
       "      <td>CATH NON-SPEC</td>\n",
       "    </tr>\n",
       "    <tr>\n",
       "      <th>580</th>\n",
       "      <td>WHITE</td>\n",
       "      <td>Non Indigenous</td>\n",
       "      <td>MALE</td>\n",
       "      <td>45</td>\n",
       "      <td>DETERMINATE</td>\n",
       "      <td>14222</td>\n",
       "      <td>SINGLE</td>\n",
       "      <td>MUSLIM</td>\n",
       "    </tr>\n",
       "    <tr>\n",
       "      <th>782</th>\n",
       "      <td>WHITE</td>\n",
       "      <td>Non Indigenous</td>\n",
       "      <td>MALE</td>\n",
       "      <td>62</td>\n",
       "      <td>DETERMINATE</td>\n",
       "      <td>18236</td>\n",
       "      <td>COMMON LAW</td>\n",
       "      <td>CATH NON-SPEC</td>\n",
       "    </tr>\n",
       "  </tbody>\n",
       "</table>\n",
       "<p>743 rows × 8 columns</p>\n",
       "</div>"
      ],
      "text/plain": [
       "                Race   Race Grouping Gender  Age Sentence Type  \\\n",
       "586            WHITE  Non Indigenous   MALE   49   DETERMINATE   \n",
       "289            WHITE  Non Indigenous   MALE   25   DETERMINATE   \n",
       "915            WHITE  Non Indigenous   MALE   23   DETERMINATE   \n",
       "250  ASI-E/SOUTHEAST  Non Indigenous   MALE   25   DETERMINATE   \n",
       "752      ASIAN-SOUTH  Non Indigenous   MALE   39   DETERMINATE   \n",
       "..               ...             ...    ...  ...           ...   \n",
       "950            WHITE  Non Indigenous   MALE   57   DETERMINATE   \n",
       "487            WHITE  Non Indigenous   MALE   58   DETERMINATE   \n",
       "771            WHITE  Non Indigenous   MALE   48   DETERMINATE   \n",
       "580            WHITE  Non Indigenous   MALE   45   DETERMINATE   \n",
       "782            WHITE  Non Indigenous   MALE   62   DETERMINATE   \n",
       "\n",
       "     Aggregate Sentence Length Marital Status       Religion  \n",
       "586                        730         SINGLE  CATH NON-SPEC  \n",
       "289                        730     COMMON LAW  CHRI NON SPEC  \n",
       "915                        730         SINGLE  CATH NON-SPEC  \n",
       "250                        730         SINGLE            NaN  \n",
       "752                        730        UNKNOWN          HINDU  \n",
       "..                         ...            ...            ...  \n",
       "950                      11539         SINGLE  CATH NON-SPEC  \n",
       "487                      12428         SINGLE  CATH NON-SPEC  \n",
       "771                      13229         SINGLE  CATH NON-SPEC  \n",
       "580                      14222         SINGLE         MUSLIM  \n",
       "782                      18236     COMMON LAW  CATH NON-SPEC  \n",
       "\n",
       "[743 rows x 8 columns]"
      ]
     },
     "execution_count": 182,
     "metadata": {},
     "output_type": "execute_result"
    }
   ],
   "source": [
    "df_1718.sort_values(['Aggregate Sentence Length'])"
   ]
  },
  {
   "cell_type": "code",
   "execution_count": 181,
   "metadata": {},
   "outputs": [],
   "source": [
    "def preprocess(df):\n",
    "    target_cols = ['Race','Race Grouping','Gender','Age','Sentence Type','Aggregate Sentence Length','Marital Status','Religion']\n",
    "    df = df[target_cols]\n",
    "    df = df[df['Sentence Type']=='DETERMINATE']\n",
    "    return df\n",
    "df_1718 = preprocess(df_1718)\n",
    "\n"
   ]
  },
  {
   "cell_type": "code",
   "execution_count": 197,
   "metadata": {
    "collapsed": true
   },
   "outputs": [
    {
     "ename": "ValueError",
     "evalue": "'explode' must be of length 'x'",
     "output_type": "error",
     "traceback": [
      "\u001b[0;31m---------------------------------------------------------------------------\u001b[0m",
      "\u001b[0;31mValueError\u001b[0m                                Traceback (most recent call last)",
      "\u001b[0;32m<ipython-input-197-83f652fd6027>\u001b[0m in \u001b[0;36m<module>\u001b[0;34m\u001b[0m\n\u001b[1;32m      2\u001b[0m \u001b[0mx\u001b[0m \u001b[0;34m=\u001b[0m \u001b[0mdf_race\u001b[0m\u001b[0;34m.\u001b[0m\u001b[0mindex\u001b[0m\u001b[0;34m\u001b[0m\u001b[0;34m\u001b[0m\u001b[0m\n\u001b[1;32m      3\u001b[0m \u001b[0my\u001b[0m \u001b[0;34m=\u001b[0m \u001b[0mdf_race\u001b[0m\u001b[0;34m.\u001b[0m\u001b[0mvalues\u001b[0m\u001b[0;34m\u001b[0m\u001b[0;34m\u001b[0m\u001b[0m\n\u001b[0;32m----> 4\u001b[0;31m \u001b[0mmake_pie\u001b[0m\u001b[0;34m(\u001b[0m\u001b[0mx\u001b[0m\u001b[0;34m,\u001b[0m\u001b[0my\u001b[0m\u001b[0;34m)\u001b[0m\u001b[0;34m\u001b[0m\u001b[0;34m\u001b[0m\u001b[0m\n\u001b[0m",
      "\u001b[0;32m<ipython-input-196-74b8696ebab7>\u001b[0m in \u001b[0;36mmake_pie\u001b[0;34m(x, y)\u001b[0m\n\u001b[1;32m      7\u001b[0m     \u001b[0;31m#                              for i in range(len(y))])\u001b[0m\u001b[0;34m\u001b[0m\u001b[0;34m\u001b[0m\u001b[0;34m\u001b[0m\u001b[0m\n\u001b[1;32m      8\u001b[0m \u001b[0;34m\u001b[0m\u001b[0m\n\u001b[0;32m----> 9\u001b[0;31m     \u001b[0mwedges\u001b[0m\u001b[0;34m,\u001b[0m \u001b[0mtexts\u001b[0m\u001b[0;34m,\u001b[0m \u001b[0mautotexts\u001b[0m \u001b[0;34m=\u001b[0m \u001b[0mrace_ax\u001b[0m\u001b[0;34m.\u001b[0m\u001b[0mpie\u001b[0m\u001b[0;34m(\u001b[0m\u001b[0my\u001b[0m\u001b[0;34m,\u001b[0m \u001b[0mlabels\u001b[0m\u001b[0;34m=\u001b[0m\u001b[0mx\u001b[0m\u001b[0;34m,\u001b[0m \u001b[0mexplode\u001b[0m\u001b[0;34m=\u001b[0m\u001b[0mexplode\u001b[0m\u001b[0;34m,\u001b[0m\u001b[0mautopct\u001b[0m\u001b[0;34m=\u001b[0m\u001b[0;34m'%1.1f%%'\u001b[0m\u001b[0;34m)\u001b[0m\u001b[0;34m\u001b[0m\u001b[0;34m\u001b[0m\u001b[0m\n\u001b[0m\u001b[1;32m     10\u001b[0m     \u001b[0mpercent\u001b[0m \u001b[0;34m=\u001b[0m \u001b[0;36m100.\u001b[0m\u001b[0;34m*\u001b[0m\u001b[0my\u001b[0m\u001b[0;34m/\u001b[0m\u001b[0my\u001b[0m\u001b[0;34m.\u001b[0m\u001b[0msum\u001b[0m\u001b[0;34m(\u001b[0m\u001b[0;34m)\u001b[0m\u001b[0;34m\u001b[0m\u001b[0;34m\u001b[0m\u001b[0m\n\u001b[1;32m     11\u001b[0m     \u001b[0mlabels\u001b[0m \u001b[0;34m=\u001b[0m \u001b[0;34m[\u001b[0m\u001b[0;34m'{0:5} - {1:1.2f} %'\u001b[0m\u001b[0;34m.\u001b[0m\u001b[0mformat\u001b[0m\u001b[0;34m(\u001b[0m\u001b[0mi\u001b[0m\u001b[0;34m,\u001b[0m\u001b[0mj\u001b[0m\u001b[0;34m)\u001b[0m \u001b[0;32mfor\u001b[0m \u001b[0mi\u001b[0m\u001b[0;34m,\u001b[0m\u001b[0mj\u001b[0m \u001b[0;32min\u001b[0m \u001b[0mzip\u001b[0m\u001b[0;34m(\u001b[0m\u001b[0mx\u001b[0m\u001b[0;34m,\u001b[0m \u001b[0mpercent\u001b[0m\u001b[0;34m)\u001b[0m\u001b[0;34m]\u001b[0m\u001b[0;34m\u001b[0m\u001b[0;34m\u001b[0m\u001b[0m\n",
      "\u001b[0;32m/usr/local/Cellar/jupyterlab/1.2.4/libexec/lib/python3.7/site-packages/matplotlib/__init__.py\u001b[0m in \u001b[0;36minner\u001b[0;34m(ax, data, *args, **kwargs)\u001b[0m\n\u001b[1;32m   1597\u001b[0m     \u001b[0;32mdef\u001b[0m \u001b[0minner\u001b[0m\u001b[0;34m(\u001b[0m\u001b[0max\u001b[0m\u001b[0;34m,\u001b[0m \u001b[0;34m*\u001b[0m\u001b[0margs\u001b[0m\u001b[0;34m,\u001b[0m \u001b[0mdata\u001b[0m\u001b[0;34m=\u001b[0m\u001b[0;32mNone\u001b[0m\u001b[0;34m,\u001b[0m \u001b[0;34m**\u001b[0m\u001b[0mkwargs\u001b[0m\u001b[0;34m)\u001b[0m\u001b[0;34m:\u001b[0m\u001b[0;34m\u001b[0m\u001b[0;34m\u001b[0m\u001b[0m\n\u001b[1;32m   1598\u001b[0m         \u001b[0;32mif\u001b[0m \u001b[0mdata\u001b[0m \u001b[0;32mis\u001b[0m \u001b[0;32mNone\u001b[0m\u001b[0;34m:\u001b[0m\u001b[0;34m\u001b[0m\u001b[0;34m\u001b[0m\u001b[0m\n\u001b[0;32m-> 1599\u001b[0;31m             \u001b[0;32mreturn\u001b[0m \u001b[0mfunc\u001b[0m\u001b[0;34m(\u001b[0m\u001b[0max\u001b[0m\u001b[0;34m,\u001b[0m \u001b[0;34m*\u001b[0m\u001b[0mmap\u001b[0m\u001b[0;34m(\u001b[0m\u001b[0msanitize_sequence\u001b[0m\u001b[0;34m,\u001b[0m \u001b[0margs\u001b[0m\u001b[0;34m)\u001b[0m\u001b[0;34m,\u001b[0m \u001b[0;34m**\u001b[0m\u001b[0mkwargs\u001b[0m\u001b[0;34m)\u001b[0m\u001b[0;34m\u001b[0m\u001b[0;34m\u001b[0m\u001b[0m\n\u001b[0m\u001b[1;32m   1600\u001b[0m \u001b[0;34m\u001b[0m\u001b[0m\n\u001b[1;32m   1601\u001b[0m         \u001b[0mbound\u001b[0m \u001b[0;34m=\u001b[0m \u001b[0mnew_sig\u001b[0m\u001b[0;34m.\u001b[0m\u001b[0mbind\u001b[0m\u001b[0;34m(\u001b[0m\u001b[0max\u001b[0m\u001b[0;34m,\u001b[0m \u001b[0;34m*\u001b[0m\u001b[0margs\u001b[0m\u001b[0;34m,\u001b[0m \u001b[0;34m**\u001b[0m\u001b[0mkwargs\u001b[0m\u001b[0;34m)\u001b[0m\u001b[0;34m\u001b[0m\u001b[0;34m\u001b[0m\u001b[0m\n",
      "\u001b[0;32m/usr/local/Cellar/jupyterlab/1.2.4/libexec/lib/python3.7/site-packages/matplotlib/axes/_axes.py\u001b[0m in \u001b[0;36mpie\u001b[0;34m(self, x, explode, labels, colors, autopct, pctdistance, shadow, labeldistance, startangle, radius, counterclock, wedgeprops, textprops, center, frame, rotatelabels)\u001b[0m\n\u001b[1;32m   2982\u001b[0m             \u001b[0;32mraise\u001b[0m \u001b[0mValueError\u001b[0m\u001b[0;34m(\u001b[0m\u001b[0;34m\"'label' must be of length 'x'\"\u001b[0m\u001b[0;34m)\u001b[0m\u001b[0;34m\u001b[0m\u001b[0;34m\u001b[0m\u001b[0m\n\u001b[1;32m   2983\u001b[0m         \u001b[0;32mif\u001b[0m \u001b[0mlen\u001b[0m\u001b[0;34m(\u001b[0m\u001b[0mx\u001b[0m\u001b[0;34m)\u001b[0m \u001b[0;34m!=\u001b[0m \u001b[0mlen\u001b[0m\u001b[0;34m(\u001b[0m\u001b[0mexplode\u001b[0m\u001b[0;34m)\u001b[0m\u001b[0;34m:\u001b[0m\u001b[0;34m\u001b[0m\u001b[0;34m\u001b[0m\u001b[0m\n\u001b[0;32m-> 2984\u001b[0;31m             \u001b[0;32mraise\u001b[0m \u001b[0mValueError\u001b[0m\u001b[0;34m(\u001b[0m\u001b[0;34m\"'explode' must be of length 'x'\"\u001b[0m\u001b[0;34m)\u001b[0m\u001b[0;34m\u001b[0m\u001b[0;34m\u001b[0m\u001b[0m\n\u001b[0m\u001b[1;32m   2985\u001b[0m         \u001b[0;32mif\u001b[0m \u001b[0mcolors\u001b[0m \u001b[0;32mis\u001b[0m \u001b[0;32mNone\u001b[0m\u001b[0;34m:\u001b[0m\u001b[0;34m\u001b[0m\u001b[0;34m\u001b[0m\u001b[0m\n\u001b[1;32m   2986\u001b[0m             \u001b[0mget_next_color\u001b[0m \u001b[0;34m=\u001b[0m \u001b[0mself\u001b[0m\u001b[0;34m.\u001b[0m\u001b[0m_get_patches_for_fill\u001b[0m\u001b[0;34m.\u001b[0m\u001b[0mget_next_color\u001b[0m\u001b[0;34m\u001b[0m\u001b[0;34m\u001b[0m\u001b[0m\n",
      "\u001b[0;31mValueError\u001b[0m: 'explode' must be of length 'x'"
     ]
    },
    {
     "data": {
      "image/png": "[encoded data removed]",
      "text/plain": [
       "<Figure size 504x504 with 1 Axes>"
      ]
     },
     "metadata": {
      "needs_background": "light"
     },
     "output_type": "display_data"
    }
   ],
   "source": [
    "df_race = df_1718['Race'].value_counts()\n",
    "x = df_race.index\n",
    "y = df_race.values\n",
    "make_pie(x,y)"
   ]
  },
  {
   "cell_type": "code",
   "execution_count": 199,
   "metadata": {
    "scrolled": false
   },
   "outputs": [],
   "source": [
    "def make_pie(x,y):\n",
    "    # theme = plt.get_cmap('coolwarm')\n",
    "    explode = ()*len(x)\n",
    "    race_fig, race_ax = plt.subplots(figsize=(7, 7))\n",
    "\n",
    "    # race_ax.set_prop_cycle(\"color\", [theme(1. * i / len(y))\n",
    "    #                              for i in range(len(y))])\n",
    "\n",
    "    wedges, texts, autotexts = race_ax.pie(y, labels=x, explode=explode,autopct='%1.1f%%')\n",
    "    percent = 100.*y/y.sum()\n",
    "    labels = ['{0:5} - {1:1.2f} %'.format(i,j) for i,j in zip(x, percent)]\n",
    "    race_ax.legend(wedges,\n",
    "                   labels,\n",
    "                   title=\"Race Distribution Legend\",\n",
    "                   loc=\"center right\",\n",
    "                   bbox_to_anchor=(1.7, 0.5))\n",
    "    race_ax.set_title('Race Distribution Pie Chart')"
   ]
  },
  {
   "cell_type": "code",
   "execution_count": 202,
   "metadata": {},
   "outputs": [
    {
     "data": {
      "image/png": "[encoded data removed]",
      "text/plain": [
       "<Figure size 936x360 with 1 Axes>"
      ]
     },
     "metadata": {
      "needs_background": "light"
     },
     "output_type": "display_data"
    }
   ],
   "source": [
    "df_avg_sentence = df_1718_deter.groupby(['Race'])['Aggregate Sentence Length'].mean().sort_values(ascending=True)\n",
    "avg_sentence_bar = df_avg_sentence.plot(kind='bar',\n",
    "                                        alpha=0.85,\n",
    "                                        figsize=(13,5),\n",
    "                                        rot=45,\n",
    "                                        title = \"Race vs. Average Sentence Length\"\n",
    "                                       ).grid(axis='y')"
   ]
  },
  {
   "cell_type": "code",
   "execution_count": 59,
   "metadata": {},
   "outputs": [
    {
     "data": {
      "text/plain": [
       "array(['WHITE', 'METIS', 'NORTH AMERICAN', nan, 'ARAB', 'BLACK', 'INUIT',\n",
       "       'S. E. ASIAN', 'LATIN AMERICAN', 'ASI-E/SOUTHEAST',\n",
       "       'UNABLE SPECIFY', 'CHINESE', 'CARIBBEAN', 'MULTIRAC/ETHNIC',\n",
       "       'OTHER', 'ARAB/WEST ASIAN', 'SOUTH ASIAN', 'ASIAN-SOUTH',\n",
       "       'EURO.-SOUTHERN', 'ASIATIC', 'KOREAN', 'EUROPEAN FRENCH'],\n",
       "      dtype=object)"
      ]
     },
     "execution_count": 59,
     "metadata": {},
     "output_type": "execute_result"
    }
   ],
   "source": [
    "df_1718['Race'].unique()"
   ]
  },
  {
   "cell_type": "code",
   "execution_count": null,
   "metadata": {},
   "outputs": [],
   "source": []
  }
 ],
 "metadata": {
  "kernelspec": {
   "display_name": "Python 3",
   "language": "python",
   "name": "python3"
  },
  "language_info": {
   "codemirror_mode": {
    "name": "ipython",
    "version": 3
   },
   "file_extension": ".py",
   "mimetype": "text/x-python",
   "name": "python",
   "nbconvert_exporter": "python",
   "pygments_lexer": "ipython3",
   "version": "3.7.6"
  }
 },
 "nbformat": 4,
 "nbformat_minor": 2
}
